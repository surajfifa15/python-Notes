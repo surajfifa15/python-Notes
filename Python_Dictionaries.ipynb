{
  "nbformat": 4,
  "nbformat_minor": 0,
  "metadata": {
    "colab": {
      "provenance": [],
      "authorship_tag": "ABX9TyNTQr0NPT5s2N3pHPLBmyWP",
      "include_colab_link": true
    },
    "kernelspec": {
      "name": "python3",
      "display_name": "Python 3"
    },
    "language_info": {
      "name": "python"
    }
  },
  "cells": [
    {
      "cell_type": "markdown",
      "metadata": {
        "id": "view-in-github",
        "colab_type": "text"
      },
      "source": [
        "<a href=\"https://colab.research.google.com/github/surajfifa15/python-Notes/blob/main/Python_Dictionaries.ipynb\" target=\"_parent\"><img src=\"https://colab.research.google.com/assets/colab-badge.svg\" alt=\"Open In Colab\"/></a>"
      ]
    },
    {
      "cell_type": "markdown",
      "source": [
        "### **Dictionary**\n",
        "\n",
        "Dictionaries are used to store data values in key:value pairs.\n",
        "\n",
        "A dictionary is a collection which is ordered*, changeable and do not allow duplicates.\n",
        "\n",
        "*As of Python version 3.7, dictionaries are ordered. In Python 3.6 and earlier, dictionaries are unordered.*\n",
        "\n",
        "Dictionaries are written with curly brackets, and have keys and values:\n",
        "\n",
        "### **Ordered or Unordered?**\n",
        "\n",
        "As of Python version 3.7, dictionaries are ordered. In Python 3.6 and earlier, dictionaries are unordered.\n",
        "\n",
        "When we say that dictionaries are ordered, it means that the items have a defined order, and that order will not change.\n",
        "\n",
        "Unordered means that the items does not have a defined order, you cannot refer to an item by using an index.\n"
      ],
      "metadata": {
        "id": "KIZbS3slPkq5"
      }
    },
    {
      "cell_type": "code",
      "execution_count": 1,
      "metadata": {
        "id": "GrGzVk0RPiwq",
        "colab": {
          "base_uri": "https://localhost:8080/"
        },
        "outputId": "135b3a97-6dcc-4182-e7c3-32e62f26bfed"
      },
      "outputs": [
        {
          "output_type": "stream",
          "name": "stdout",
          "text": [
            "{'brand': 'Ford', 'model': 'Mustang', 'year': 1964}\n"
          ]
        }
      ],
      "source": [
        "#Ex:1\n",
        "thisdict = {\n",
        "  \"brand\": \"Ford\",\n",
        "  \"model\": \"Mustang\",\n",
        "  \"year\": 1964\n",
        "}\n",
        "print(thisdict)"
      ]
    },
    {
      "cell_type": "code",
      "source": [
        "#Ex:2\n",
        "d={\"Name\":\"Python\",\n",
        "    \"fees\":\"500\",\n",
        "    \"duration\":\"2 months\" \n",
        "}\n",
        "for a in d:\n",
        "  print(d[a])"
      ],
      "metadata": {
        "colab": {
          "base_uri": "https://localhost:8080/"
        },
        "id": "DI8J2rKdQ8kZ",
        "outputId": "7aa72f7f-0976-4ad3-cacc-f22ee4d05faa"
      },
      "execution_count": 8,
      "outputs": [
        {
          "output_type": "stream",
          "name": "stdout",
          "text": [
            "Python\n",
            "500\n",
            "2 months\n"
          ]
        }
      ]
    },
    {
      "cell_type": "code",
      "source": [],
      "metadata": {
        "id": "Nlh1QD6BRrpE"
      },
      "execution_count": null,
      "outputs": []
    }
  ]
}