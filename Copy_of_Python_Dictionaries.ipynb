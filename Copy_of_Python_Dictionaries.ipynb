{
  "nbformat": 4,
  "nbformat_minor": 0,
  "metadata": {
    "colab": {
      "provenance": [],
      "authorship_tag": "ABX9TyNX1T9RbO3R7kZH5/ftPAeZ",
      "include_colab_link": true
    },
    "kernelspec": {
      "name": "python3",
      "display_name": "Python 3"
    },
    "language_info": {
      "name": "python"
    }
  },
  "cells": [
    {
      "cell_type": "markdown",
      "metadata": {
        "id": "view-in-github",
        "colab_type": "text"
      },
      "source": [
        "<a href=\"https://colab.research.google.com/github/surajfifa15/python-Notes/blob/main/Copy_of_Python_Dictionaries.ipynb\" target=\"_parent\"><img src=\"https://colab.research.google.com/assets/colab-badge.svg\" alt=\"Open In Colab\"/></a>"
      ]
    },
    {
      "cell_type": "markdown",
      "source": [
        "### **Dictionary**\n",
        "\n",
        "Dictionaries are used to store data values in key:value pairs.\n",
        "\n",
        "A dictionary is a collection which is ordered*, changeable and do not allow duplicates.\n",
        "\n",
        "*As of Python version 3.7, dictionaries are ordered. In Python 3.6 and earlier, dictionaries are unordered.*\n",
        "\n",
        "Dictionaries are written with curly brackets, and have keys and values:\n",
        "\n",
        "### **Ordered or Unordered?**\n",
        "\n",
        "As of Python version 3.7, dictionaries are ordered. In Python 3.6 and earlier, dictionaries are unordered.\n",
        "\n",
        "When we say that dictionaries are ordered, it means that the items have a defined order, and that order will not change.\n",
        "\n",
        "Unordered means that the items does not have a defined order, you cannot refer to an item by using an index.\n",
        "\n",
        "## **Dictionary function**\n",
        "\n",
        "\n",
        "1.   get()\n",
        "2.   keys()\n",
        "1.   values()\n",
        "1.   items()\n",
        "1.   del()\n",
        "2.   pop()\n",
        "2.   dict()\n",
        "2.   update()\n",
        "2.   clear()"
      ],
      "metadata": {
        "id": "KIZbS3slPkq5"
      }
    },
    {
      "cell_type": "code",
      "execution_count": null,
      "metadata": {
        "id": "GrGzVk0RPiwq",
        "colab": {
          "base_uri": "https://localhost:8080/"
        },
        "outputId": "27126f4f-3e55-454c-f141-06401fcd7af0"
      },
      "outputs": [
        {
          "output_type": "stream",
          "name": "stdout",
          "text": [
            "Ford\n"
          ]
        }
      ],
      "source": [
        "#Ex:1 get()\n",
        "thisdict = {\n",
        "  \"brand\": \"Ford\",\n",
        "  \"model\": \"Mustang\",\n",
        "  \"year\": 1964\n",
        "}\n",
        "c=thisdict.get(\"brand\")\n",
        "print(c)"
      ]
    },
    {
      "cell_type": "code",
      "source": [
        "#Ex:2 keys()\n",
        "d={\"Name\":\"Python\",\n",
        "    \"fees\":\"500\",\n",
        "    \"duration\":\"2 months\" \n",
        "}\n",
        "for a in d.keys():\n",
        "  print(a) "
      ],
      "metadata": {
        "colab": {
          "base_uri": "https://localhost:8080/"
        },
        "id": "DI8J2rKdQ8kZ",
        "outputId": "b378edca-5ecd-4ad9-bc0a-f84a32857916"
      },
      "execution_count": null,
      "outputs": [
        {
          "output_type": "stream",
          "name": "stdout",
          "text": [
            "Name\n",
            "fees\n",
            "duration\n"
          ]
        }
      ]
    },
    {
      "cell_type": "code",
      "source": [
        "#Ex:3 values()\n",
        "d={\"Name\":\"Python\",\n",
        "    \"fees\":\"500\",\n",
        "    \"duration\":\"2 months\" \n",
        "}\n",
        "for a in d.values():\n",
        "  print(a)\n"
      ],
      "metadata": {
        "id": "Nlh1QD6BRrpE",
        "colab": {
          "base_uri": "https://localhost:8080/"
        },
        "outputId": "95f77d7a-d614-40d7-e5f0-95d441113102"
      },
      "execution_count": null,
      "outputs": [
        {
          "output_type": "stream",
          "name": "stdout",
          "text": [
            "Python\n",
            "500\n",
            "2 months\n"
          ]
        }
      ]
    },
    {
      "cell_type": "code",
      "source": [
        "#Ex:4 items()\n",
        "d={\"Name\":\"Python\",\n",
        "    \"fees\":\"500\",\n",
        "    \"duration\":\"2 months\" \n",
        "}\n",
        "for a,b in d.items():\n",
        "  print(a,b)"
      ],
      "metadata": {
        "colab": {
          "base_uri": "https://localhost:8080/"
        },
        "id": "GTDw29xeUsod",
        "outputId": "aad0ac38-f644-47b3-f8e4-8d4077c5eb6a"
      },
      "execution_count": null,
      "outputs": [
        {
          "output_type": "stream",
          "name": "stdout",
          "text": [
            "Name Python\n",
            "fees 500\n",
            "duration 2 months\n"
          ]
        }
      ]
    },
    {
      "cell_type": "code",
      "source": [
        "#Ex:5 del()\n",
        "d={\"Name\":\"Python\",\n",
        "    \"fees\":\"500\",\n",
        "    \"duration\":\"2 months\" \n",
        "}\n",
        "del d[\"fees\"]\n",
        "print(d)\n"
      ],
      "metadata": {
        "colab": {
          "base_uri": "https://localhost:8080/"
        },
        "id": "DtURoqdWU7JT",
        "outputId": "9625e10e-4dba-46d6-faf3-300dee631ded"
      },
      "execution_count": null,
      "outputs": [
        {
          "output_type": "stream",
          "name": "stdout",
          "text": [
            "{'Name': 'Python', 'duration': '2 months'}\n"
          ]
        }
      ]
    },
    {
      "cell_type": "code",
      "source": [
        "#Ex:6 pop()\n",
        "d={\"Name\":\"Python\",\n",
        "    \"fees\":\"500\",\n",
        "    \"duration\":\"2 months\" \n",
        "}\n",
        "d.pop(\"fees\")\n",
        "print(d)"
      ],
      "metadata": {
        "colab": {
          "base_uri": "https://localhost:8080/"
        },
        "id": "wNzbl5gIVI5t",
        "outputId": "40bccc76-c3c7-4207-842a-f4a045b46ab1"
      },
      "execution_count": null,
      "outputs": [
        {
          "output_type": "stream",
          "name": "stdout",
          "text": [
            "{'Name': 'Python', 'duration': '2 months'}\n"
          ]
        }
      ]
    },
    {
      "cell_type": "code",
      "source": [
        "#Ex:7 dict()\n",
        "d={\"Name\":\"Python\",\n",
        "    \"fees\":\"500\",\n",
        "    \"duration\":\"2 months\" \n",
        "}\n",
        "d=dict(Name=\"Python\", duration=\"2 months\")\n",
        "print(d)"
      ],
      "metadata": {
        "colab": {
          "base_uri": "https://localhost:8080/"
        },
        "id": "Ipw2zupVWPHe",
        "outputId": "2ed039fe-d410-4418-a11f-38c04182760b"
      },
      "execution_count": null,
      "outputs": [
        {
          "output_type": "stream",
          "name": "stdout",
          "text": [
            "{'Name': 'Python', 'duration': '2 months'}\n"
          ]
        }
      ]
    },
    {
      "cell_type": "code",
      "source": [
        "#Ex:8 update()\n",
        "d={\"Name\":\"Python\",\n",
        "    \"fees\":\"500\",\n",
        "    \"duration\":\"2 months\" \n",
        "}\n",
        "d.update({\"duration\":\"5 months\"} )\n",
        "print(d)"
      ],
      "metadata": {
        "colab": {
          "base_uri": "https://localhost:8080/"
        },
        "id": "apbnj2f_Xemt",
        "outputId": "08ac6989-d0d3-426d-e807-9d463c726d8d"
      },
      "execution_count": null,
      "outputs": [
        {
          "output_type": "stream",
          "name": "stdout",
          "text": [
            "{'Name': 'Python', 'fees': '500', 'duration': '5 months'}\n"
          ]
        }
      ]
    },
    {
      "cell_type": "code",
      "source": [
        "#Ex:8.1 update()\n",
        "d={\"Name\":\"Python\",\n",
        "    \"fees\":\"500\",\n",
        "    \"duration\":\"2 months\" \n",
        "}\n",
        "d.update({\"Time\":\"9:00 AM to 10:00 AM\"})\n",
        "print(d)"
      ],
      "metadata": {
        "colab": {
          "base_uri": "https://localhost:8080/"
        },
        "id": "WxEUeAufbHnH",
        "outputId": "6053471a-d070-4d2b-bb78-f21edbff1828"
      },
      "execution_count": null,
      "outputs": [
        {
          "output_type": "stream",
          "name": "stdout",
          "text": [
            "{'Name': 'Python', 'fees': '500', 'duration': '2 months', 'Time': '9:00 AM to 10:00 AM'}\n"
          ]
        }
      ]
    },
    {
      "cell_type": "code",
      "source": [
        "#Ex:9 clear()\n",
        "d={\"Name\":\"Python\",\n",
        "    \"fees\":\"500\",\n",
        "    \"duration\":\"2 months\" \n",
        "}\n",
        "d.clear()\n",
        "print(d)"
      ],
      "metadata": {
        "id": "nBfzgrlF89ex",
        "outputId": "b7cb7152-6508-4a53-abdf-315db94f8d2b",
        "colab": {
          "base_uri": "https://localhost:8080/"
        }
      },
      "execution_count": null,
      "outputs": [
        {
          "output_type": "stream",
          "name": "stdout",
          "text": [
            "{}\n"
          ]
        }
      ]
    },
    {
      "cell_type": "markdown",
      "source": [
        "### **Nested dictionary**"
      ],
      "metadata": {
        "id": "Lm_OO1R6E0r0"
      }
    },
    {
      "cell_type": "code",
      "source": [
        "course ={\n",
        "      \"python\":{\"duration\":\"2 months\",\"fees\":500},\n",
        "      \"c++\":{\"duration\":\"3 months\",\"fees\":600},\n",
        "      \"java\":{\"duration\":\" 4 months\",\"fees\":800}\n",
        "}\n",
        "course.items()"
      ],
      "metadata": {
        "colab": {
          "base_uri": "https://localhost:8080/"
        },
        "id": "IAGzFiE2iQVt",
        "outputId": "79580a92-73fa-49ec-a14f-118c66408bb5"
      },
      "execution_count": 23,
      "outputs": [
        {
          "output_type": "execute_result",
          "data": {
            "text/plain": [
              "dict_items([('python', {'duration': '2 months', 'fees': 500}), ('c++', {'duration': '3 months', 'fees': 600}), ('java', {'duration': ' 4 months', 'fees': 800})])"
            ]
          },
          "metadata": {},
          "execution_count": 23
        }
      ]
    },
    {
      "cell_type": "code",
      "source": [
        "course ={\n",
        "      \"python\":{\"duration\":\"2 months\",\"fees\":500},\n",
        "      \"c++\":{\"duration\":\"3 months\",\"fees\":600},\n",
        "      \"java\":{\"duration\":\" 4 months\",\"fees\":800}\n",
        "}\n",
        "\n",
        "for a,b in course.items():\n",
        "  print(a,b['duration'],b[\"fees\"])\n"
      ],
      "metadata": {
        "id": "IfrgkmihEuN_",
        "colab": {
          "base_uri": "https://localhost:8080/"
        },
        "outputId": "1ecb894b-8929-40c9-8455-796946683703"
      },
      "execution_count": 41,
      "outputs": [
        {
          "output_type": "stream",
          "name": "stdout",
          "text": [
            "python 2 months 500\n",
            "c++ 3 months 600\n",
            "java  4 months 800\n"
          ]
        }
      ]
    },
    {
      "cell_type": "code",
      "source": [
        "course ={\n",
        "      \"python\":{\"duration\":\"2 months\",\"fees\":500},\n",
        "      \"c++\":{\"duration\":\"3 months\",\"fees\":600},\n",
        "      \"java\":{\"duration\":\" 4 months\",\"fees\":800}\n",
        "}\n",
        "course['python'][\"fees\"]=1000\n",
        "for a,b in course.items():\n",
        "  print(a,b['duration'],b[\"fees\"])\n"
      ],
      "metadata": {
        "colab": {
          "base_uri": "https://localhost:8080/"
        },
        "id": "eEYZfwWgz1gQ",
        "outputId": "82862120-aae4-4847-c9c8-9077ff6618bf"
      },
      "execution_count": 40,
      "outputs": [
        {
          "output_type": "stream",
          "name": "stdout",
          "text": [
            "python 2 months 1000\n",
            "c++ 3 months 600\n",
            "java  4 months 800\n"
          ]
        }
      ]
    }
  ]
}