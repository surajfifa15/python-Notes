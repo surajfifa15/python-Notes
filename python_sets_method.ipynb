{
  "nbformat": 4,
  "nbformat_minor": 0,
  "metadata": {
    "colab": {
      "provenance": [],
      "authorship_tag": "ABX9TyPH6NSum8NSyxfrUgl5N72g",
      "include_colab_link": true
    },
    "kernelspec": {
      "name": "python3",
      "display_name": "Python 3"
    },
    "language_info": {
      "name": "python"
    }
  },
  "cells": [
    {
      "cell_type": "markdown",
      "metadata": {
        "id": "view-in-github",
        "colab_type": "text"
      },
      "source": [
        "<a href=\"https://colab.research.google.com/github/surajfifa15/python-Notes/blob/main/python_sets_method.ipynb\" target=\"_parent\"><img src=\"https://colab.research.google.com/assets/colab-badge.svg\" alt=\"Open In Colab\"/></a>"
      ]
    },
    {
      "cell_type": "markdown",
      "source": [
        "### **Sets in Python**\n",
        "\n",
        "A Set in Python programming is an unordered collection data type that is iterable, mutable and has no duplicate elements. \n",
        "\n",
        "**Unordered**\n",
        "\n",
        "Unordered means that the items in a set do not have a defined order.\n",
        "\n",
        "Set items can appear in a different order every time you use them, and cannot be referred to by index or key.\n",
        "\n",
        "**Unchangeable**\n",
        "\n",
        "Set items are unchangeable, meaning that we cannot change the items after the set has been created\n",
        "\n",
        "*Set are represented by { } (values enclosed in curly braces)*\n",
        "\n",
        "The major advantage of using a set, as opposed to a list, is that it has a highly optimized method for checking whether a specific element is contained in the set. This is based on a data structure known as a hash table. Since sets are unordered, we cannot access items using indexes as we do in lists."
      ],
      "metadata": {
        "id": "xC5FHfyiAQ7x"
      }
    },
    {
      "cell_type": "markdown",
      "source": [
        "**Set Functions**\n",
        "1. Sets\n",
        "\n",
        "2. sets add() \n",
        "\n",
        "3. set pop()\n",
        "\n",
        "4. set remove()\n",
        "\n",
        "5. set clear()\n",
        "\n",
        "6. set dicard()\n",
        "\n",
        "7. set update()\n",
        "\n",
        "8. set () constructor\n",
        "\n",
        "9. set union()\n",
        "\n",
        "5. set intersection()\n",
        "\n",
        "6. set intersection_update()\n",
        "\n",
        "8. set.symmetric_difference(set)\n",
        "\n",
        "9. set symmetric_difference_update()"
      ],
      "metadata": {
        "id": "KKkaUCFPPHV2"
      }
    },
    {
      "cell_type": "markdown",
      "source": [
        "**1.Sets**"
      ],
      "metadata": {
        "id": "jOjrE8erUHco"
      }
    },
    {
      "cell_type": "code",
      "execution_count": 1,
      "metadata": {
        "colab": {
          "base_uri": "https://localhost:8080/"
        },
        "id": "Jwv_lRuvAOzT",
        "outputId": "bb0a4c82-0de1-4dc7-ccce-e485410da814"
      },
      "outputs": [
        {
          "output_type": "stream",
          "name": "stdout",
          "text": [
            "{40, 10, 20, 30}\n"
          ]
        }
      ],
      "source": [
        "s={10,20,30,40}\n",
        "print(s)"
      ]
    },
    {
      "cell_type": "markdown",
      "source": [
        "** iterating through set**\n",
        "\n"
      ],
      "metadata": {
        "id": "Po9JzQ-WTtRX"
      }
    },
    {
      "cell_type": "code",
      "source": [
        "s={10,20,30,40}\n",
        "\n",
        "for a in s:\n",
        "  print(a)"
      ],
      "metadata": {
        "colab": {
          "base_uri": "https://localhost:8080/"
        },
        "id": "cUoQIN0PTczJ",
        "outputId": "ebd95220-e5c0-4a3a-bb6d-14130731788a"
      },
      "execution_count": 2,
      "outputs": [
        {
          "output_type": "stream",
          "name": "stdout",
          "text": [
            "40\n",
            "10\n",
            "20\n",
            "30\n"
          ]
        }
      ]
    },
    {
      "cell_type": "markdown",
      "source": [
        "**2.Set add()**"
      ],
      "metadata": {
        "id": "XjaoHvWJgO8L"
      }
    },
    {
      "cell_type": "code",
      "source": [
        "k=90\n",
        "s={10,20,30,40,50}\n",
        "s.add(k)\n",
        "\n",
        "print(s)"
      ],
      "metadata": {
        "colab": {
          "base_uri": "https://localhost:8080/"
        },
        "id": "VGbizseLdOS6",
        "outputId": "747f991c-6d19-416c-8dfa-e1076cf42d1d"
      },
      "execution_count": 26,
      "outputs": [
        {
          "output_type": "stream",
          "name": "stdout",
          "text": [
            "{50, 20, 90, 40, 10, 30}\n"
          ]
        }
      ]
    },
    {
      "cell_type": "markdown",
      "source": [
        "**3.set pop()**\n",
        "\n",
        "Definition and Usage\n",
        "\n",
        "The pop() method removes a random item from the set.\n",
        "\n",
        "This method returns the removed item."
      ],
      "metadata": {
        "id": "2Olp0S6lZTor"
      }
    },
    {
      "cell_type": "code",
      "source": [
        "s={10,20,30,40,50}\n",
        "s.pop()\n",
        "\n",
        "print(s)"
      ],
      "metadata": {
        "colab": {
          "base_uri": "https://localhost:8080/"
        },
        "id": "lWBs2TH_W2Pb",
        "outputId": "532ba7e2-eaa9-445b-bcfc-408f4e42894a"
      },
      "execution_count": 17,
      "outputs": [
        {
          "output_type": "stream",
          "name": "stdout",
          "text": [
            "{20, 40, 10, 30}\n"
          ]
        }
      ]
    },
    {
      "cell_type": "markdown",
      "source": [
        "*** you can easly to identify which no. is delete**\n",
        "\n"
      ],
      "metadata": {
        "id": "h5JpqTiMawGq"
      }
    },
    {
      "cell_type": "code",
      "source": [
        "s={10,20,30,40,50}\n",
        "print(s.pop())"
      ],
      "metadata": {
        "colab": {
          "base_uri": "https://localhost:8080/"
        },
        "id": "H85SH0kLZ7G1",
        "outputId": "26a968b4-5437-4571-bf0d-e201db2c6d40"
      },
      "execution_count": 18,
      "outputs": [
        {
          "output_type": "stream",
          "name": "stdout",
          "text": [
            "50\n",
            "20\n",
            "{40, 10, 30}\n"
          ]
        }
      ]
    },
    {
      "cell_type": "markdown",
      "source": [
        "**3.set remove()**"
      ],
      "metadata": {
        "id": "MxDPPy5bW-r3"
      }
    },
    {
      "cell_type": "code",
      "source": [
        "a=(10,20,30,40)\n",
        "s.remove(20)\n",
        "\n",
        "print(s)"
      ],
      "metadata": {
        "colab": {
          "base_uri": "https://localhost:8080/"
        },
        "id": "nK-PZh7bWKHD",
        "outputId": "83367dab-8cf0-41c7-af72-91a5a9343076"
      },
      "execution_count": 8,
      "outputs": [
        {
          "output_type": "stream",
          "name": "stdout",
          "text": [
            "{40, 10, 30}\n"
          ]
        }
      ]
    },
    {
      "cell_type": "markdown",
      "source": [
        "**4.set clear()**"
      ],
      "metadata": {
        "id": "ItNG7eNnoAnD"
      }
    },
    {
      "cell_type": "code",
      "source": [
        "s={10,20,30,40,50}\n",
        "s.clear()\n",
        "\n",
        "print(s)"
      ],
      "metadata": {
        "colab": {
          "base_uri": "https://localhost:8080/"
        },
        "id": "hnJQwCVdg59z",
        "outputId": "6c5eabd9-4910-47fe-d898-ccde6bba7fcb"
      },
      "execution_count": 29,
      "outputs": [
        {
          "output_type": "stream",
          "name": "stdout",
          "text": [
            "set()\n"
          ]
        }
      ]
    },
    {
      "cell_type": "markdown",
      "source": [
        "**5.set discard()**"
      ],
      "metadata": {
        "id": "vUq8nsA2g8xh"
      }
    },
    {
      "cell_type": "code",
      "source": [
        "s={10,20,30,40,50}\n",
        "s.discard(30)\n",
        "\n",
        "print(s)"
      ],
      "metadata": {
        "colab": {
          "base_uri": "https://localhost:8080/"
        },
        "id": "UflStd-HeGpb",
        "outputId": "9d0d02e9-d63e-410a-c176-822ace86fca5"
      },
      "execution_count": 27,
      "outputs": [
        {
          "output_type": "stream",
          "name": "stdout",
          "text": [
            "{50, 20, 40, 10}\n"
          ]
        }
      ]
    },
    {
      "cell_type": "markdown",
      "source": [
        "**6.set update()**"
      ],
      "metadata": {
        "id": "o9rrNn1-cQ8C"
      }
    },
    {
      "cell_type": "code",
      "source": [
        "l={20,60,70,80}\n",
        "s={10,20,30,40,50}\n",
        "s.update(l)\n",
        "\n",
        "print(s)"
      ],
      "metadata": {
        "colab": {
          "base_uri": "https://localhost:8080/"
        },
        "id": "HTTsYK9EavER",
        "outputId": "a33e1ef7-7952-4bad-9163-716d48755d5b"
      },
      "execution_count": 23,
      "outputs": [
        {
          "output_type": "stream",
          "name": "stdout",
          "text": [
            "{70, 40, 10, 80, 50, 20, 60, 30}\n"
          ]
        }
      ]
    },
    {
      "cell_type": "markdown",
      "source": [
        "**10.set () constructor**"
      ],
      "metadata": {
        "id": "RV5KRhrPqRb5"
      }
    },
    {
      "cell_type": "code",
      "source": [
        "clanSet=(\"naruto\",\"gaara\",\"lee\")\n",
        "print(type(clanSet),clanSet)\n",
        "clanSet=set(clanSet)\n",
        "print(type(clanSet),clanSet)"
      ],
      "metadata": {
        "colab": {
          "base_uri": "https://localhost:8080/"
        },
        "id": "7OnF-6xqn6En",
        "outputId": "127c5c26-1238-4886-c3e7-5916c379f3d9"
      },
      "execution_count": 30,
      "outputs": [
        {
          "output_type": "stream",
          "name": "stdout",
          "text": [
            "<class 'tuple'> ('naruto', 'gaara', 'lee')\n",
            "<class 'set'> {'lee', 'gaara', 'naruto'}\n"
          ]
        }
      ]
    },
    {
      "cell_type": "markdown",
      "source": [
        "**11. Set Union()**\n",
        "\n",
        "The union() method returns a set that contains all items from the original set, and all items from the specified set(s).\n",
        "\n",
        "You can specify as many sets you want, separated by commas.\n",
        "\n",
        "It does not have to be a set, it can be any iterable object.\n",
        "\n",
        "If an item is present in more than one set, the result will contain only one appearance of this item."
      ],
      "metadata": {
        "id": "A2_eSRZ_rihi"
      }
    },
    {
      "cell_type": "code",
      "source": [
        "'''Eg 1: Set union'''\n",
        "x={\"ram\",\"karan\",\"sohan\"}\n",
        "y={\"alice\",\"tom\",\"jerry\"}\n",
        "a = y.union(x)\n",
        "\n",
        "print(a)"
      ],
      "metadata": {
        "colab": {
          "base_uri": "https://localhost:8080/"
        },
        "id": "LGniMvUyqz9B",
        "outputId": "1dc8a99c-2c46-4d34-fbc1-bd100692a181"
      },
      "execution_count": 43,
      "outputs": [
        {
          "output_type": "stream",
          "name": "stdout",
          "text": [
            "{'sohan', 'ram', 'jerry', 'karan', 'tom', 'alice'}\n"
          ]
        }
      ]
    },
    {
      "cell_type": "code",
      "source": [
        "'''Eg 2: multiple Set union'''\n",
        "\n",
        "w = {\"naruto\",\"lee\"}\n",
        "\n",
        "x = {\"naruto\", \"sakura\", \"lee\"}\n",
        "\n",
        "y = {\"sakura\", \"sakura\", \"kakashi\"}\n",
        "\n",
        "z={\"sakura\",\"lee\"}\n",
        "\n",
        "\n",
        "a = w.union(x,y,z)\n",
        "\n",
        "print(a)\n",
        "     "
      ],
      "metadata": {
        "colab": {
          "base_uri": "https://localhost:8080/"
        },
        "id": "iTgWDgDxtFqH",
        "outputId": "0a3cb00e-03b3-4e1a-84df-089528ea3735"
      },
      "execution_count": 41,
      "outputs": [
        {
          "output_type": "stream",
          "name": "stdout",
          "text": [
            "{'sakura', 'naruto', 'kakashi', 'lee'}\n"
          ]
        }
      ]
    },
    {
      "cell_type": "markdown",
      "source": [
        "**12.set intersection()**\n",
        "\n",
        "The intersection() method returns a set that contains the similarity between two or more sets.\n",
        "\n",
        "Meaning: The returned set contains only items that exist in both sets, or in all sets if the comparison is done with more than two sets."
      ],
      "metadata": {
        "id": "sRynh6gitw9E"
      }
    },
    {
      "cell_type": "code",
      "source": [
        "#Ex- 1\n",
        "x = {\"apple\", \"banana\", \"cherry\"}\n",
        "y = {\"google\", \"microsoft\", \"apple\"}\n",
        "\n",
        "z = x.intersection(y)\n",
        "\n",
        "print(z)"
      ],
      "metadata": {
        "colab": {
          "base_uri": "https://localhost:8080/"
        },
        "id": "IX3jCU_au6TE",
        "outputId": "d646a398-5985-4e2e-db08-a7e08bbd8ee6"
      },
      "execution_count": 38,
      "outputs": [
        {
          "output_type": "stream",
          "name": "stdout",
          "text": [
            "{'apple'}\n"
          ]
        }
      ]
    },
    {
      "cell_type": "markdown",
      "source": [
        "Ex-2\n",
        "Compare 3 sets, and return a set with items that is present in all 3 sets: "
      ],
      "metadata": {
        "id": "Df8XYBuzyvVF"
      }
    },
    {
      "cell_type": "code",
      "source": [
        "x = {\"a\", \"b\", \"c\"}\n",
        "y = {\"c\", \"d\", \"e\"}\n",
        "z = {\"f\", \"g\", \"c\"}\n",
        "\n",
        "result = x.intersection(y, z)\n",
        "\n",
        "print(result)"
      ],
      "metadata": {
        "colab": {
          "base_uri": "https://localhost:8080/"
        },
        "id": "oW8ApJkCykLa",
        "outputId": "378ae8da-37a3-43f2-edee-05fe551980a7"
      },
      "execution_count": 39,
      "outputs": [
        {
          "output_type": "stream",
          "name": "stdout",
          "text": [
            "{'c'}\n"
          ]
        }
      ]
    },
    {
      "cell_type": "markdown",
      "source": [
        "**13.set symmetric_difference()**\n",
        "\n",
        "Definition and Usage\n",
        "\n",
        "The symmetric_difference() method returns a set that contains all items from both set, but not the items that are present in both sets.\n",
        "\n",
        "Meaning: The returned set contains a mix of items that are not present in both sets."
      ],
      "metadata": {
        "id": "wHJvJsE9z1CX"
      }
    },
    {
      "cell_type": "code",
      "source": [
        "x = {\"apple\", \"banana\", \"cherry\"}\n",
        "y = {\"google\", \"microsoft\", \"apple\"}\n",
        "\n",
        "z = x.symmetric_difference(y)\n",
        "\n",
        "print(z)"
      ],
      "metadata": {
        "colab": {
          "base_uri": "https://localhost:8080/"
        },
        "id": "azGk4iHgz_k1",
        "outputId": "b70f1c0c-3394-4d89-dcae-8c138a02d39d"
      },
      "execution_count": 40,
      "outputs": [
        {
          "output_type": "stream",
          "name": "stdout",
          "text": [
            "{'microsoft', 'banana', 'google', 'cherry'}\n"
          ]
        }
      ]
    },
    {
      "cell_type": "markdown",
      "source": [
        "**14.set symmetric_difference_update()**\n",
        "\n",
        "Definition and Usage\n",
        "\n",
        "The symmetric_difference_update() method updates the original set by removing items that are present in both sets, and inserting the other items.\n",
        "\n"
      ],
      "metadata": {
        "id": "-7zARsOO2UdH"
      }
    },
    {
      "cell_type": "markdown",
      "source": [
        "Ex-1\n",
        "Remove the items that are present in both sets, AND insert the items that is not present in both sets:\n"
      ],
      "metadata": {
        "id": "AB3OYj0C3JNY"
      }
    },
    {
      "cell_type": "code",
      "source": [
        "x = {\"apple\", \"banana\", \"cherry\"}\n",
        "y = {\"google\", \"microsoft\", \"apple\"}\n",
        "\n",
        "x.symmetric_difference_update(y) \n",
        "\n",
        "print(x)"
      ],
      "metadata": {
        "colab": {
          "base_uri": "https://localhost:8080/"
        },
        "id": "LRowLvoo0RDB",
        "outputId": "990f5b03-2f3b-4876-a354-ef5412fc2094"
      },
      "execution_count": 44,
      "outputs": [
        {
          "output_type": "stream",
          "name": "stdout",
          "text": [
            "{'microsoft', 'banana', 'google', 'cherry'}\n"
          ]
        }
      ]
    }
  ]
}