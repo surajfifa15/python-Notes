{
  "nbformat": 4,
  "nbformat_minor": 0,
  "metadata": {
    "colab": {
      "provenance": [],
      "authorship_tag": "ABX9TyNWAkB5HZNu/CQgq/FxiMCr",
      "include_colab_link": true
    },
    "kernelspec": {
      "name": "python3",
      "display_name": "Python 3"
    },
    "language_info": {
      "name": "python"
    }
  },
  "cells": [
    {
      "cell_type": "markdown",
      "metadata": {
        "id": "view-in-github",
        "colab_type": "text"
      },
      "source": [
        "<a href=\"https://colab.research.google.com/github/surajfifa15/python-Notes/blob/main/Function.ipynb\" target=\"_parent\"><img src=\"https://colab.research.google.com/assets/colab-badge.svg\" alt=\"Open In Colab\"/></a>"
      ]
    },
    {
      "cell_type": "markdown",
      "source": [
        "### **Python Functions**\n",
        "A function is a block of code which only runs when it is called.\n",
        "\n",
        "You can pass data, known as parameters, into a function.\n",
        "\n",
        "A function can return data as a result."
      ],
      "metadata": {
        "id": "ybb3iRurrhRf"
      }
    },
    {
      "cell_type": "code",
      "execution_count": null,
      "metadata": {
        "id": "fInbpd5prgPK"
      },
      "outputs": [],
      "source": [
        "def my_function():\n",
        "  print(\"Hello from a function\")"
      ]
    },
    {
      "cell_type": "markdown",
      "source": [
        "### **2. Function Invocation:**\n",
        "\n",
        "We use name of a function + () to invoke (call) a function"
      ],
      "metadata": {
        "id": "PT0OclSJRSA3"
      }
    },
    {
      "cell_type": "code",
      "source": [
        "my_function()"
      ],
      "metadata": {
        "id": "TIT4hvFjR0Hq",
        "colab": {
          "base_uri": "https://localhost:8080/"
        },
        "outputId": "48f2f7da-2931-4532-b4ca-2fb276f52811"
      },
      "execution_count": null,
      "outputs": [
        {
          "output_type": "stream",
          "name": "stdout",
          "text": [
            "Hello from a function\n"
          ]
        }
      ]
    },
    {
      "cell_type": "markdown",
      "source": [
        "### **3. Function Indentation:**\n",
        "indentation is properly followed in python function\n",
        "\n",
        "We can write the function definition within the def block"
      ],
      "metadata": {
        "id": "6MXNbeH4SQ06"
      }
    },
    {
      "cell_type": "code",
      "source": [
        "def myserver():\n",
        "  print(\"I am in the server\")\n",
        "print(\"I am outsider in a function\")"
      ],
      "metadata": {
        "colab": {
          "base_uri": "https://localhost:8080/"
        },
        "id": "sAWsJiH3SMj2",
        "outputId": "05b73bd4-6911-4dfb-e973-3c2d4d18d0a6"
      },
      "execution_count": null,
      "outputs": [
        {
          "output_type": "stream",
          "name": "stdout",
          "text": [
            "I am outsider in a function\n"
          ]
        }
      ]
    },
    {
      "cell_type": "code",
      "source": [
        "def server():\n",
        "  print(\"I am in the server\")\n",
        "  print(\"I am outsider in a function\")\n",
        "server()"
      ],
      "metadata": {
        "colab": {
          "base_uri": "https://localhost:8080/"
        },
        "id": "3i3urmZcaGHO",
        "outputId": "913e2b40-2e4f-4444-bc7a-75453f1b0531"
      },
      "execution_count": null,
      "outputs": [
        {
          "output_type": "stream",
          "name": "stdout",
          "text": [
            "I am in the server\n",
            "I am outsider in a function\n"
          ]
        }
      ]
    },
    {
      "cell_type": "code",
      "source": [
        "#Indentation Fail:\n",
        "def willNotwork():\n",
        "print(\"Fail\")"
      ],
      "metadata": {
        "colab": {
          "base_uri": "https://localhost:8080/",
          "height": 131
        },
        "id": "7iVHkgRcabAL",
        "outputId": "587f58d2-2b06-4c8c-dd95-17b6fc5a6881"
      },
      "execution_count": null,
      "outputs": [
        {
          "output_type": "error",
          "ename": "IndentationError",
          "evalue": "ignored",
          "traceback": [
            "\u001b[0;36m  File \u001b[0;32m\"<ipython-input-14-6fe322ec97b6>\"\u001b[0;36m, line \u001b[0;32m3\u001b[0m\n\u001b[0;31m    print(\"Fail\")\u001b[0m\n\u001b[0m    ^\u001b[0m\n\u001b[0;31mIndentationError\u001b[0m\u001b[0;31m:\u001b[0m expected an indented block after function definition on line 2\n"
          ]
        }
      ]
    },
    {
      "cell_type": "code",
      "source": [
        "#If loop with Proper Indentation in a function\n",
        "def iffunctionloop():\n",
        "  print(\"intentation is all right\")\n",
        "  if 10>5:\n",
        "\n",
        "    print(\"10 is greater than 5\")\n",
        "iffunctionloop()"
      ],
      "metadata": {
        "colab": {
          "base_uri": "https://localhost:8080/"
        },
        "id": "ttxF_ivPax4U",
        "outputId": "27e48224-e0d5-4db6-a86e-85925fbfa22e"
      },
      "execution_count": null,
      "outputs": [
        {
          "output_type": "stream",
          "name": "stdout",
          "text": [
            "intentation is all right\n",
            "10 is greater than 5\n"
          ]
        }
      ]
    },
    {
      "cell_type": "code",
      "source": [
        "#For loop with Proper Indentation in a function\n",
        "def forloopfunction():\n",
        "  print(\"intentation is all right\")\n",
        "  for i in range(1,11):\n",
        "    print(\"the value of i :\",i)\n",
        "forloopfunction()"
      ],
      "metadata": {
        "colab": {
          "base_uri": "https://localhost:8080/"
        },
        "id": "N79bYvItetYf",
        "outputId": "bc039838-63de-4190-a4d8-800af79a18ec"
      },
      "execution_count": null,
      "outputs": [
        {
          "output_type": "stream",
          "name": "stdout",
          "text": [
            "intentation is all right\n",
            "the value of i : 1\n",
            "the value of i : 2\n",
            "the value of i : 3\n",
            "the value of i : 4\n",
            "the value of i : 5\n",
            "the value of i : 6\n",
            "the value of i : 7\n",
            "the value of i : 8\n",
            "the value of i : 9\n",
            "the value of i : 10\n"
          ]
        }
      ]
    },
    {
      "cell_type": "markdown",
      "source": [
        "### **3. Function Documentation**\n",
        "\n",
        "We can derive function documentation inside the function.-> It helps other user to understand about the function\n",
        "\n",
        "Documentation can be written within \"\"\" \"\"\" triple quotes\n",
        "\n",
        "We can use print statement to print the document without \\n\n",
        "\n",
        "How to read the document of the function if available:\n",
        "______________________________________________________\n",
        "syntax\n",
        "\n",
        "*function name.__doc__*\n",
        "\n",
        "______________________________________________________"
      ],
      "metadata": {
        "id": "U6ATgiLCn_3M"
      }
    },
    {
      "cell_type": "code",
      "source": [
        "def documentationfunction():\n",
        "   \"\"\"This is well documented\"\"\"\n",
        "   print(\"Hello I am in function\")\n",
        "\n",
        "documentationfunction.__doc__"
      ],
      "metadata": {
        "id": "zeWEU78afdkR",
        "colab": {
          "base_uri": "https://localhost:8080/",
          "height": 36
        },
        "outputId": "2ec88886-0924-4f8b-faa8-319ca5b3b4c5"
      },
      "execution_count": null,
      "outputs": [
        {
          "output_type": "execute_result",
          "data": {
            "text/plain": [
              "'This is well documented'"
            ],
            "application/vnd.google.colaboratory.intrinsic+json": {
              "type": "string"
            }
          },
          "metadata": {},
          "execution_count": 21
        }
      ]
    },
    {
      "cell_type": "code",
      "source": [
        "def print_many_times_with_doc(string, times):\n",
        "    \"\"\"\n",
        "        Prints the specified string the specified number of times\n",
        "\n",
        "        The first argument is the string you want printed, the second\n",
        "        argument is the number of times you want the string printed\n",
        "\n",
        "        Parameters (both required):\n",
        "        string(str): The string to be printed\n",
        "        times(int): The number of times the string should be printed\n",
        "\n",
        "        Returns:\n",
        "        No return value\n",
        "    \"\"\"\n",
        "    for i in range(times):\n",
        "      print(string)\n",
        "print_many_times_with_doc.__doc__"
      ],
      "metadata": {
        "colab": {
          "base_uri": "https://localhost:8080/",
          "height": 71
        },
        "id": "Db5Ojb1uxPpa",
        "outputId": "d6f41883-b01d-4590-89cf-e28e76031c6a"
      },
      "execution_count": null,
      "outputs": [
        {
          "output_type": "execute_result",
          "data": {
            "text/plain": [
              "'\\n        Prints the specified string the specified number of times\\n        \\n        The first argument is the string you want printed, the second\\n        argument is the number of times you want the string printed\\n        \\n        Parameters (both required):\\n        string(str): The string to be printed\\n        times(int): The number of times the string should be printed\\n        \\n        Returns:\\n        No return value\\n    '"
            ],
            "application/vnd.google.colaboratory.intrinsic+json": {
              "type": "string"
            }
          },
          "metadata": {},
          "execution_count": 26
        }
      ]
    },
    {
      "cell_type": "code",
      "source": [
        "#Eg : print without \\n\n",
        "def print_many_times_with_doc(string, times):\n",
        "\n",
        "    \"\"\"\n",
        "        Prints the specified string the specified number of times\n",
        "\n",
        "        The first argument is the string you want printed, the second\n",
        "        argument is the number of times you want the string printed\n",
        "\n",
        "        Parameters (both required):\n",
        "        string(str): The string to be printed\n",
        "        times(int): The number of times the string should be printed\n",
        "\n",
        "        Returns:\n",
        "        No return value\n",
        "    \"\"\"\n",
        "    for i in range(times):\n",
        "      print(string)\n",
        "print(print_many_times_with_doc.__doc__)"
      ],
      "metadata": {
        "colab": {
          "base_uri": "https://localhost:8080/"
        },
        "id": "df8kwWDb7Bdi",
        "outputId": "5af2aa5e-30cb-4b66-9c9b-42eff0e5ea0a"
      },
      "execution_count": null,
      "outputs": [
        {
          "output_type": "stream",
          "name": "stdout",
          "text": [
            "\n",
            "        Prints the specified string the specified number of times\n",
            "        \n",
            "        The first argument is the string you want printed, the second\n",
            "        argument is the number of times you want the string printed\n",
            "        \n",
            "        Parameters (both required):\n",
            "        string(str): The string to be printed\n",
            "        times(int): The number of times the string should be printed\n",
            "        \n",
            "        Returns:\n",
            "        No return value\n",
            "    \n"
          ]
        }
      ]
    },
    {
      "cell_type": "markdown",
      "source": [
        "### **4. Metadata information**\n",
        "we can invoke function without paranthesis () . --> It will shows the metadata info about your function object\n"
      ],
      "metadata": {
        "id": "RtINC8ScEXVj"
      }
    },
    {
      "cell_type": "code",
      "source": [
        "def documentationFunction():\n",
        "\n",
        "  print(\"Hello I'm in function\")\n",
        "\n",
        "documentationFunction #-->shows meta data information about the function object"
      ],
      "metadata": {
        "colab": {
          "base_uri": "https://localhost:8080/"
        },
        "id": "EJimJrj3-wuQ",
        "outputId": "3607629a-112f-4b29-8b15-7837a0f97488"
      },
      "execution_count": null,
      "outputs": [
        {
          "output_type": "execute_result",
          "data": {
            "text/plain": [
              "<function __main__.documentationFunction()>"
            ]
          },
          "metadata": {},
          "execution_count": 36
        }
      ]
    },
    {
      "cell_type": "markdown",
      "source": [
        "### **5. Assign Function to a variable**\n",
        "\n",
        "    we can assign a variable to a function\n",
        "\n",
        "    Eg:\n",
        "\n",
        "    assign = name\n",
        "\n",
        "\n",
        "    Here \"name\" function is assigned to a variable \"assign\"\n",
        "\n",
        "    assign is a variable that has a reference to your original function object"
      ],
      "metadata": {
        "id": "v-tOTrgSL2Al"
      }
    },
    {
      "cell_type": "code",
      "source": [
        "def documentationFunction():\n",
        "  print(\"Hello I'm in function\")\n",
        "assign=documentationFunction"
      ],
      "metadata": {
        "id": "Z6baYTdhJ_9p"
      },
      "execution_count": null,
      "outputs": []
    },
    {
      "cell_type": "code",
      "source": [
        "assign"
      ],
      "metadata": {
        "colab": {
          "base_uri": "https://localhost:8080/"
        },
        "id": "Ju2FSHcNOxvc",
        "outputId": "d9f6cbeb-c4a5-4956-ac5e-9ad5b7abddc2"
      },
      "execution_count": null,
      "outputs": [
        {
          "output_type": "execute_result",
          "data": {
            "text/plain": [
              "<function __main__.documentationFunction()>"
            ]
          },
          "metadata": {},
          "execution_count": 39
        }
      ]
    },
    {
      "cell_type": "code",
      "source": [
        "assign()\n",
        "documentationFunction()"
      ],
      "metadata": {
        "colab": {
          "base_uri": "https://localhost:8080/"
        },
        "id": "rceW9vy_O5VA",
        "outputId": "6da1baf9-31ef-4704-d847-52b8396b655b"
      },
      "execution_count": null,
      "outputs": [
        {
          "output_type": "stream",
          "name": "stdout",
          "text": [
            "Hello I'm in function\n",
            "Hello I'm in function\n"
          ]
        }
      ]
    },
    {
      "cell_type": "markdown",
      "source": [
        "### **Arguments**\n",
        "\n",
        "Information can be passed into functions as arguments.\n",
        "\n",
        "Arguments are specified after the function name, inside the parentheses. You can add as many arguments as you want, just separate them with a comma.\n",
        "\n",
        "The following example has a function with one argument (fname). When the function is called, we pass along a first name, which is used inside the function to print the full name:"
      ],
      "metadata": {
        "id": "499CVYTuUppz"
      }
    },
    {
      "cell_type": "code",
      "source": [
        "def my_function(fname):\n",
        "  print(fname + \" Refsnes\")\n",
        "my_function(\"Alice\")\n",
        "my_function(\"johan\")\n",
        "my_function(\"ron\")"
      ],
      "metadata": {
        "colab": {
          "base_uri": "https://localhost:8080/"
        },
        "id": "3bZqImAuUWwG",
        "outputId": "dace155a-d582-4dec-edf9-93d9dca0debc"
      },
      "execution_count": null,
      "outputs": [
        {
          "output_type": "stream",
          "name": "stdout",
          "text": [
            "Alice Refsnes\n",
            "johan Refsnes\n",
            "ron Refsnes\n"
          ]
        }
      ]
    },
    {
      "cell_type": "code",
      "source": [
        "def sum(a,b=5):\n",
        "  print(a+b)\n",
        "sum(10)"
      ],
      "metadata": {
        "colab": {
          "base_uri": "https://localhost:8080/"
        },
        "id": "Dkr2VXJhVMYU",
        "outputId": "f8fc5b10-dc28-4be0-ba83-3ab56d575a14"
      },
      "execution_count": null,
      "outputs": [
        {
          "output_type": "stream",
          "name": "stdout",
          "text": [
            "15\n"
          ]
        }
      ]
    },
    {
      "cell_type": "code",
      "source": [
        "def sum(a,b=5):\n",
        "  print(a+b)\n",
        "sum(10,20)"
      ],
      "metadata": {
        "colab": {
          "base_uri": "https://localhost:8080/"
        },
        "id": "dQRm8Y0CbJ8n",
        "outputId": "6fe656f3-498b-4aae-93a7-90e1a2a33170"
      },
      "execution_count": null,
      "outputs": [
        {
          "output_type": "stream",
          "name": "stdout",
          "text": [
            "30\n"
          ]
        }
      ]
    },
    {
      "cell_type": "markdown",
      "source": [
        "# **Parameters or Arguments?**\n",
        "\n",
        "The terms parameter and argument can be used for the same thing: information that are passed into a function."
      ],
      "metadata": {
        "id": "h1lqFyBHb7k2"
      }
    },
    {
      "cell_type": "code",
      "source": [
        "def my_function(fname, lname):\n",
        "  print(fname + \" \" + lname)\n",
        "\n",
        "my_function(\"Emil\", \"Refsnes\")"
      ],
      "metadata": {
        "colab": {
          "base_uri": "https://localhost:8080/"
        },
        "id": "hPTW3WkReiu-",
        "outputId": "ac9b936e-cee0-4d41-8e93-6af82af339ef"
      },
      "execution_count": null,
      "outputs": [
        {
          "output_type": "stream",
          "name": "stdout",
          "text": [
            "Emil Refsnes\n"
          ]
        }
      ]
    },
    {
      "cell_type": "code",
      "source": [
        "def my_function(fname, lname):\n",
        "  print(fname + \" \" + lname)\n",
        "\n",
        "my_function(\"Emil\",\"johan\")"
      ],
      "metadata": {
        "colab": {
          "base_uri": "https://localhost:8080/"
        },
        "id": "smLiIrWBem2W",
        "outputId": "3fd145be-d9f7-46f7-d9e3-2a24b4d9d0b1"
      },
      "execution_count": null,
      "outputs": [
        {
          "output_type": "stream",
          "name": "stdout",
          "text": [
            "Emil johan\n"
          ]
        }
      ]
    },
    {
      "cell_type": "markdown",
      "source": [
        "# Arbitrary Arguments, *args\n",
        "\n",
        "If you do not know how many arguments that will be passed into your function, add a * before the parameter name in the function definition.\n",
        "\n",
        "This way the function will receive a tuple of arguments, and can access the items accordingly:"
      ],
      "metadata": {
        "id": "PweGmENwcW62"
      }
    },
    {
      "cell_type": "code",
      "source": [
        "def my_function(*kids):\n",
        "  print(\"The youngest child is \" + kids[2])\n",
        "my_function(\"alice\",\"johan\",\"alia\")"
      ],
      "metadata": {
        "id": "rCDIpJNTepoE",
        "colab": {
          "base_uri": "https://localhost:8080/"
        },
        "outputId": "499a0d0f-89f3-474c-f4f6-3071d90ddf51"
      },
      "execution_count": null,
      "outputs": [
        {
          "output_type": "stream",
          "name": "stdout",
          "text": [
            "The youngest child is alia\n"
          ]
        }
      ]
    },
    {
      "cell_type": "markdown",
      "source": [
        "### **Keyword Arguments**\n",
        "\n",
        "You can also send arguments with the key = value syntax.\n",
        "\n",
        "This way the order of the arguments does not matter."
      ],
      "metadata": {
        "id": "1HDqfm8xdfhj"
      }
    },
    {
      "cell_type": "code",
      "source": [
        "def my_function(child3, child2, child1):\n",
        "  print(\"The youngest child is \" + child2)\n",
        "my_function(child1 = \"Emil\", child2 = \"Tobias\", child3 = \"Linus\")"
      ],
      "metadata": {
        "colab": {
          "base_uri": "https://localhost:8080/"
        },
        "id": "h_0Issboc5EG",
        "outputId": "649d1a9a-7f9a-4389-d451-81e56cfbf7e6"
      },
      "execution_count": null,
      "outputs": [
        {
          "output_type": "stream",
          "name": "stdout",
          "text": [
            "The youngest child is Tobias\n"
          ]
        }
      ]
    },
    {
      "cell_type": "markdown",
      "source": [
        "# Arbitrary Keyword Arguments, **kwargs\n",
        "\n",
        "If you do not know how many keyword arguments that will be passed into your function, add two asterisk: ** before the parameter name in the function definition.\n",
        "\n",
        "This way the function will receive a dictionary of arguments, and can access the items accordingly:"
      ],
      "metadata": {
        "id": "6OnImu3h9_zT"
      }
    },
    {
      "cell_type": "code",
      "source": [
        "#Example\n",
        "#If the number of keyword arguments is unknown, add a double ** before the parameter name:\n",
        "def my_function(**kid):\n",
        "  print(\"His last name is \" + kid[\"lname\"])\n",
        "\n",
        "my_function(fname = \"Tobias\", lname = \"Refsnes\")"
      ],
      "metadata": {
        "colab": {
          "base_uri": "https://localhost:8080/"
        },
        "id": "CddY_RzD9jOV",
        "outputId": "a480bfb2-ea97-4a73-c1b2-3a5f0c9eb905"
      },
      "execution_count": null,
      "outputs": [
        {
          "output_type": "stream",
          "name": "stdout",
          "text": [
            "His last name is Refsnes\n"
          ]
        }
      ]
    },
    {
      "cell_type": "markdown",
      "source": [
        "## **Default Parameter Value**\n",
        "The following example shows how to use a default parameter value.\n",
        "\n",
        "If we call the function without argument, it uses the default value:"
      ],
      "metadata": {
        "id": "m7lxGxLl-RXI"
      }
    },
    {
      "cell_type": "code",
      "source": [
        "def function(country = \" Norway\"):\n",
        "  print(\"I am from this\" + country)\n",
        "function(\" India\")\n",
        "function(\" USA\")\n",
        "function()\n",
        "function(\" spain\")"
      ],
      "metadata": {
        "colab": {
          "base_uri": "https://localhost:8080/"
        },
        "id": "07ozXv-E-NzD",
        "outputId": "ac9fa07f-dbaa-42f6-99b3-20fdc92f9d8f"
      },
      "execution_count": null,
      "outputs": [
        {
          "output_type": "stream",
          "name": "stdout",
          "text": [
            "I am from this India\n",
            "I am from this USA\n",
            "I am from this Norway\n",
            "I am from this spain\n"
          ]
        }
      ]
    },
    {
      "cell_type": "markdown",
      "source": [
        "## **Passing a List as an Argument**\n",
        "\n",
        "You can send any data types of argument to a function (string, number, list, dictionary etc.), and it will be treated as the same data type inside the function.\n",
        "\n",
        "E.g. if you send a List as an argument, it will still be a List when it reaches the function:\n",
        "\n"
      ],
      "metadata": {
        "id": "9xBU9TES_bAs"
      }
    },
    {
      "cell_type": "code",
      "source": [
        "def function(food):\n",
        "  for i in food:\n",
        "    print(i)\n",
        "fruit = (\"apple\", \"banana\", \"cherry\")\n",
        "function(fruit)"
      ],
      "metadata": {
        "colab": {
          "base_uri": "https://localhost:8080/"
        },
        "id": "OYqi5ItAGMbn",
        "outputId": "4d8f00d7-f22e-4863-d3a6-2a303456c238"
      },
      "execution_count": null,
      "outputs": [
        {
          "output_type": "stream",
          "name": "stdout",
          "text": [
            "apple\n",
            "banana\n",
            "cherry\n"
          ]
        }
      ]
    },
    {
      "cell_type": "markdown",
      "source": [
        "### **Return Values**\n",
        "To let a function return a value, use the return statement:\n",
        "\n"
      ],
      "metadata": {
        "id": "y0r_Mb8gHi-a"
      }
    },
    {
      "cell_type": "code",
      "source": [
        "def function(x):\n",
        "  return 5*x\n",
        "print(function(3))\n",
        "print(function(4))\n",
        "print(function(5))"
      ],
      "metadata": {
        "id": "8mbWY9aGHF2H",
        "colab": {
          "base_uri": "https://localhost:8080/"
        },
        "outputId": "384b56b8-1bff-4495-994a-57338f10e7e9"
      },
      "execution_count": null,
      "outputs": [
        {
          "output_type": "stream",
          "name": "stdout",
          "text": [
            "15\n",
            "20\n",
            "25\n"
          ]
        }
      ]
    },
    {
      "cell_type": "code",
      "source": [
        "def function(x):\n",
        "  return 5*x\n",
        "function(3)"
      ],
      "metadata": {
        "colab": {
          "base_uri": "https://localhost:8080/"
        },
        "id": "ZH3fjozul1CD",
        "outputId": "46679667-66d2-4096-9abe-7a51f0563caa"
      },
      "execution_count": null,
      "outputs": [
        {
          "output_type": "execute_result",
          "data": {
            "text/plain": [
              "15"
            ]
          },
          "metadata": {},
          "execution_count": 3
        }
      ]
    },
    {
      "cell_type": "markdown",
      "source": [
        "### **Recursion**\n",
        "Python also accepts function recursion, which means a defined function can call itself.\n",
        "\n",
        "Recursion is a common mathematical and programming concept. It means that a function calls itself. This has the benefit of meaning that you can loop through data to reach a result.\n",
        "\n",
        "The developer should be very careful with recursion as it can be quite easy to slip into writing a function which never terminates, or one that uses excess amounts of memory or processor power. However, when written correctly recursion can be a very efficient and mathematically-elegant approach to programming."
      ],
      "metadata": {
        "id": "1lfrzJI6qQ4E"
      }
    },
    {
      "cell_type": "code",
      "source": [
        "def tri_recursion(k):\n",
        "  if(k > 0):\n",
        "    result = k + tri_recursion(k - 1)\n",
        "    print(result)\n",
        "  else:\n",
        "    result = 0\n",
        "  return result\n",
        "\n",
        "print(\"\\n\\nRecursion Example Results\")\n",
        "tri_recursion(6)"
      ],
      "metadata": {
        "colab": {
          "base_uri": "https://localhost:8080/"
        },
        "id": "j6JyI8gjoDr5",
        "outputId": "40bbbca2-0fe2-48e2-a179-61d63a2852f4"
      },
      "execution_count": null,
      "outputs": [
        {
          "output_type": "stream",
          "name": "stdout",
          "text": [
            "\n",
            "\n",
            "Recursion Example Results\n",
            "1\n",
            "3\n",
            "6\n",
            "10\n",
            "15\n",
            "21\n"
          ]
        },
        {
          "output_type": "execute_result",
          "data": {
            "text/plain": [
              "21"
            ]
          },
          "metadata": {},
          "execution_count": 8
        }
      ]
    },
    {
      "cell_type": "markdown",
      "source": [
        "### **Python Lambda**\n",
        "A lambda function is a small anonymous function.\n",
        "\n",
        "A lambda function can take any number of arguments, but can only have one expression.\n",
        "\n",
        "Syntax\n",
        "*lambda arguments : expression*"
      ],
      "metadata": {
        "id": "fcvjAs2tfEFo"
      }
    },
    {
      "cell_type": "code",
      "source": [
        "x = lambda a:a+10\n",
        "print(x(5))"
      ],
      "metadata": {
        "colab": {
          "base_uri": "https://localhost:8080/"
        },
        "id": "cf1vtB-IghLW",
        "outputId": "b55f408c-4c7b-42fe-824d-7ce6c771eb29"
      },
      "execution_count": null,
      "outputs": [
        {
          "output_type": "stream",
          "name": "stdout",
          "text": [
            "15\n"
          ]
        }
      ]
    },
    {
      "cell_type": "code",
      "source": [
        "x = lambda a,b:a*b\n",
        "print(x(5,6))"
      ],
      "metadata": {
        "colab": {
          "base_uri": "https://localhost:8080/"
        },
        "id": "GmMpReoBi85a",
        "outputId": "d61f9275-9302-4a4d-c27c-a10b216fe4c6"
      },
      "execution_count": null,
      "outputs": [
        {
          "output_type": "stream",
          "name": "stdout",
          "text": [
            "30\n"
          ]
        }
      ]
    },
    {
      "cell_type": "code",
      "source": [
        "x = lambda a, b, c : a + b + c\n",
        "print(x(5, 6, 2))"
      ],
      "metadata": {
        "colab": {
          "base_uri": "https://localhost:8080/"
        },
        "id": "W8MP4iOznvPC",
        "outputId": "f9cb9c40-4727-434a-a5fa-e348767f3662"
      },
      "execution_count": null,
      "outputs": [
        {
          "output_type": "stream",
          "name": "stdout",
          "text": [
            "13\n"
          ]
        }
      ]
    },
    {
      "cell_type": "markdown",
      "source": [
        "### **Why Use Lambda Functions?**\n",
        "\n",
        "The power of lambda is better shown when you use them as an anonymous function inside another function.\n",
        "\n",
        "Say you have a function definition that takes one argument, and that argument will be multiplied with an unknown number:"
      ],
      "metadata": {
        "id": "J5O9bCUZxQa0"
      }
    },
    {
      "cell_type": "markdown",
      "source": [
        "1. Write a Python program to create a lambda function that adds 15 to a given number passed in as an argument, also create a lambda function that multiplies argument x with argument y and prints the result.\n",
        "Sample Output:\n",
        "25\n",
        "48"
      ],
      "metadata": {
        "id": "Odo6G8dVKNvv"
      }
    },
    {
      "cell_type": "code",
      "source": [
        "x = lambda a:a+10\n",
        "print(x(15))\n",
        "K = lambda X,Y : X*Y\n",
        "print(K(8,6))"
      ],
      "metadata": {
        "colab": {
          "base_uri": "https://localhost:8080/"
        },
        "id": "Z_2a5I5HGUWP",
        "outputId": "3c0c4caa-6973-43c4-c98a-af79754f5354"
      },
      "execution_count": null,
      "outputs": [
        {
          "output_type": "stream",
          "name": "stdout",
          "text": [
            "25\n",
            "48\n"
          ]
        }
      ]
    },
    {
      "cell_type": "markdown",
      "source": [
        "2. Write a Python program to create a function that takes one argument, and that argument will be multiplied with an unknown given number.\n",
        "\n",
        "Sample Output:\n",
        "\n",
        "Double the number of 15 = 30\n",
        "\n",
        "Triple the number of 15 = 45\n",
        "\n",
        "Quadruple the number of 15 = 60\n",
        "\n",
        "Quintuple the number 15 = 75"
      ],
      "metadata": {
        "id": "NJp6CpeCKX7x"
      }
    },
    {
      "cell_type": "code",
      "source": [
        "def my_function(n):\n",
        "  return lambda a : a*n\n",
        "result = my_function(2)\n",
        "print(\"Double the number of 15 = \",result(15))\n",
        "result = my_function(3)\n",
        "print(\"Triple the number of 15 = \",result(15))\n",
        "result = my_function(4)\n",
        "print(\"Quadruple the number of 15 = \",result(15))\n",
        "result = my_function(5)\n",
        "print(\"Quintuple the number of 15 = \",result(15))"
      ],
      "metadata": {
        "colab": {
          "base_uri": "https://localhost:8080/"
        },
        "id": "46CSr769Jv9V",
        "outputId": "5ac81499-66d2-4a25-870e-20102f443353"
      },
      "execution_count": null,
      "outputs": [
        {
          "output_type": "stream",
          "name": "stdout",
          "text": [
            "Double the number of 15 =  30\n",
            "Triple the number of 15 =  45\n",
            "Quadruple the number of 15 =  60\n",
            "Quintuple the number of 15 =  75\n"
          ]
        }
      ]
    }
  ]
}